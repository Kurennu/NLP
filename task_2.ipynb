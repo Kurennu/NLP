{
 "cells": [
  {
   "cell_type": "markdown",
   "metadata": {},
   "source": [
    "<h4>1. Применить к текстам лемматизацию, удаление стоп слов и токенизацию по словам</h4>\n"
   ]
  },
  {
   "cell_type": "code",
   "execution_count": 179,
   "metadata": {},
   "outputs": [],
   "source": [
    "import re\n",
    "import pymorphy3\n",
    "from nltk.corpus import stopwords\n",
    "from collections import Counter\n",
    "import numpy as np\n",
    "from math import log\n"
   ]
  },
  {
   "cell_type": "code",
   "execution_count": 180,
   "metadata": {},
   "outputs": [],
   "source": [
    "texts = [\n",
    "    \"Старик сидел у моря и смотрел на горизонт.\",\n",
    "    \"Море тихо шептало, накатываясь на берег.\",\n",
    "    \"Берег был пуст, кроме одинокого силуэта на песке.\"\n",
    "]"
   ]
  },
  {
   "cell_type": "code",
   "execution_count": 181,
   "metadata": {},
   "outputs": [],
   "source": [
    "morph = pymorphy3.MorphAnalyzer()\n",
    "stop_words = set(stopwords.words('russian'))"
   ]
  },
  {
   "cell_type": "code",
   "execution_count": 182,
   "metadata": {},
   "outputs": [],
   "source": [
    "def preprocessing(text):\n",
    "    text = text.lower()\n",
    "    text = re.sub(r'[^а-яё\\s]', '', text)\n",
    "    \n",
    "    words = text.split()\n",
    "    lemmas = [morph.parse(word)[0].normal_form for word in words \n",
    "             if word not in stop_words and word.strip()]\n",
    "    \n",
    "    return lemmas"
   ]
  },
  {
   "cell_type": "code",
   "execution_count": 183,
   "metadata": {},
   "outputs": [
    {
     "name": "stdout",
     "output_type": "stream",
     "text": [
      "['старик', 'сидеть', 'море', 'смотреть', 'горизонт']\n",
      "['море', 'тихо', 'шептать', 'накатываться', 'берег']\n",
      "['берег', 'пустой', 'кроме', 'одинокий', 'силуэт', 'песок']\n"
     ]
    }
   ],
   "source": [
    "for i in texts:\n",
    "    print(preprocessing(i))\n"
   ]
  },
  {
   "cell_type": "markdown",
   "metadata": {},
   "source": [
    "<h4>2. Реализовать Bag of Words</h4>\n"
   ]
  },
  {
   "cell_type": "code",
   "execution_count": 184,
   "metadata": {},
   "outputs": [],
   "source": [
    "def create_vocabulary(texts):\n",
    "    vocabulary = set()\n",
    "    \n",
    "    for text in texts:\n",
    "        processed_text = preprocessing(text)\n",
    "        vocabulary.update(processed_text)\n",
    "\n",
    "    return sorted(list(vocabulary))"
   ]
  },
  {
   "cell_type": "code",
   "execution_count": 185,
   "metadata": {},
   "outputs": [],
   "source": [
    "def create_bow_matrix(texts):\n",
    "    vocabulary = create_vocabulary(texts)\n",
    "    vocab_to_idx = {word: idx for idx, word in enumerate(vocabulary)}\n",
    "    bow_matrix = []\n",
    "    \n",
    "    for text in texts:\n",
    "        processed_text = preprocessing(text)\n",
    "        vector = [0] * len(vocabulary)\n",
    "        word_counts = Counter(processed_text)\n",
    "        for word, count in word_counts.items():\n",
    "            if word in vocab_to_idx:\n",
    "                vector[vocab_to_idx[word]] = count\n",
    "        \n",
    "        bow_matrix.append(vector)\n",
    "    \n",
    "    return bow_matrix, vocabulary"
   ]
  },
  {
   "cell_type": "code",
   "execution_count": 186,
   "metadata": {},
   "outputs": [],
   "source": [
    "bow_matrix, vocabulary = create_bow_matrix(texts)\n",
    "bow_matrix = np.array(bow_matrix)"
   ]
  },
  {
   "cell_type": "code",
   "execution_count": 187,
   "metadata": {},
   "outputs": [
    {
     "name": "stdout",
     "output_type": "stream",
     "text": [
      "берег, горизонт, кроме, море, накатываться, одинокий, песок, пустой, сидеть, силуэт, смотреть, старик, тихо, шептать, \n",
      "\n",
      "[[0 1 0 1 0 0 0 0 1 0 1 1 0 0]\n",
      " [1 0 0 1 1 0 0 0 0 0 0 0 1 1]\n",
      " [1 0 1 0 0 1 1 1 0 1 0 0 0 0]]\n"
     ]
    }
   ],
   "source": [
    "for word in vocabulary:\n",
    "    print(word, end=\", \")\n",
    "    \n",
    "print(\"\\n\")\n",
    "print(bow_matrix)"
   ]
  },
  {
   "cell_type": "markdown",
   "metadata": {},
   "source": [
    "<h4>3. Реализовать TF-IDF</h4>\n"
   ]
  },
  {
   "cell_type": "code",
   "execution_count": 188,
   "metadata": {},
   "outputs": [],
   "source": [
    "def compute_tfidf(bow_matrix):\n",
    "    tf = bow_matrix / bow_matrix.sum(axis=1, keepdims=True)\n",
    "    \n",
    "    n_docs = len(bow_matrix)\n",
    "    word_doc_counts = np.count_nonzero(bow_matrix, axis=0)\n",
    "    idf = np.log(n_docs / (1 + word_doc_counts))\n",
    "\n",
    "    tfidf = tf * idf\n",
    "    return tfidf"
   ]
  },
  {
   "cell_type": "code",
   "execution_count": 189,
   "metadata": {},
   "outputs": [],
   "source": [
    "tfidf_matrix = compute_tfidf(bow_matrix)"
   ]
  },
  {
   "cell_type": "code",
   "execution_count": 191,
   "metadata": {},
   "outputs": [
    {
     "name": "stdout",
     "output_type": "stream",
     "text": [
      "[[0.         0.08109302 0.         0.         0.         0.\n",
      "  0.         0.         0.08109302 0.         0.08109302 0.08109302\n",
      "  0.         0.        ]\n",
      " [0.         0.         0.         0.         0.08109302 0.\n",
      "  0.         0.         0.         0.         0.         0.\n",
      "  0.08109302 0.08109302]\n",
      " [0.         0.         0.06757752 0.         0.         0.06757752\n",
      "  0.06757752 0.06757752 0.         0.06757752 0.         0.\n",
      "  0.         0.        ]]\n"
     ]
    }
   ],
   "source": [
    "print(tfidf_matrix)"
   ]
  },
  {
   "cell_type": "code",
   "execution_count": 192,
   "metadata": {},
   "outputs": [
    {
     "name": "stdout",
     "output_type": "stream",
     "text": [
      "  горизонт: 0.0811\n",
      "  сидеть: 0.0811\n",
      "  смотреть: 0.0811\n",
      "  старик: 0.0811\n",
      "\n",
      "  накатываться: 0.0811\n",
      "  тихо: 0.0811\n",
      "  шептать: 0.0811\n",
      "\n",
      "  кроме: 0.0676\n",
      "  одинокий: 0.0676\n",
      "  песок: 0.0676\n",
      "  пустой: 0.0676\n",
      "  силуэт: 0.0676\n",
      "\n"
     ]
    }
   ],
   "source": [
    "for i, vector in enumerate(tfidf_matrix):\n",
    "    for word, score in zip(vocabulary, vector):\n",
    "        if score > 0:\n",
    "            print(f\"  {word}: {score:.4f}\")\n",
    "    print()"
   ]
  }
 ],
 "metadata": {
  "kernelspec": {
   "display_name": "Python 3",
   "language": "python",
   "name": "python3"
  },
  "language_info": {
   "codemirror_mode": {
    "name": "ipython",
    "version": 3
   },
   "file_extension": ".py",
   "mimetype": "text/x-python",
   "name": "python",
   "nbconvert_exporter": "python",
   "pygments_lexer": "ipython3",
   "version": "3.11.9"
  }
 },
 "nbformat": 4,
 "nbformat_minor": 2
}
