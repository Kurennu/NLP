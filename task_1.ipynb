{
 "cells": [
  {
   "cell_type": "markdown",
   "metadata": {},
   "source": [
    "<h4>1. Провести на любом тексте лемматизацию и стемминг (nltk, pymorphy2, pymorphy3, natasha)</h4>"
   ]
  },
  {
   "cell_type": "code",
   "execution_count": 60,
   "metadata": {},
   "outputs": [],
   "source": [
    "import re\n",
    "import pymorphy3\n",
    "from nltk.corpus import stopwords\n",
    "from nltk.stem import SnowballStemmer"
   ]
  },
  {
   "cell_type": "code",
   "execution_count": 61,
   "metadata": {},
   "outputs": [
    {
     "name": "stdout",
     "output_type": "stream",
     "text": [
      "I live in a house near the mountains. I have two brothers and one sister, and I was born last. My father teaches mathematics, and my mother is a nurse at a big hospital. My brothers are very smart and work hard in school. My sister is a nervous girl, but she is very kind. My grandmother also lives with us. She came from Italy when I was two years old. She has grown old, but she is still very strong. She cooks the best food! \n"
     ]
    }
   ],
   "source": [
    "input_filename = 'text.txt'\n",
    "with open(input_filename, 'r', encoding='utf-8') as f:\n",
    "    text = f.read()\n",
    "print(text)"
   ]
  },
  {
   "cell_type": "code",
   "execution_count": 62,
   "metadata": {},
   "outputs": [],
   "source": [
    "morph = pymorphy3.MorphAnalyzer()\n",
    "stemmer = SnowballStemmer('russian')\n",
    "stopwords = stopwords.words('russian')"
   ]
  },
  {
   "cell_type": "code",
   "execution_count": 63,
   "metadata": {},
   "outputs": [],
   "source": [
    "def lemmatize_text(text):\n",
    "    text = text.lower()\n",
    "    text = re.sub(r'[^а-яё\\s]', '', text)\n",
    "    words = text.split()\n",
    "\n",
    "    lemmatized = [morph.parse(word)[0].normal_form for word in words if word not in stopwords]\n",
    "    return ' '.join(lemmatized)"
   ]
  },
  {
   "cell_type": "code",
   "execution_count": 64,
   "metadata": {},
   "outputs": [],
   "source": [
    "def stem_text(text):\n",
    "    text = text.lower()\n",
    "    text = re.sub(r'[^а-яё\\s]', '', text)\n",
    "    words = text.split()\n",
    "\n",
    "    stemmed = [stemmer.stem(word) for word in words if word not in stopwords]\n",
    "    return ' '.join(stemmed)"
   ]
  },
  {
   "cell_type": "code",
   "execution_count": 65,
   "metadata": {},
   "outputs": [
    {
     "name": "stdout",
     "output_type": "stream",
     "text": [
      "\n",
      "\n"
     ]
    }
   ],
   "source": [
    "lemmatized_text = lemmatize_text(text)\n",
    "stemmed_text = stem_text(text)\n",
    "\n",
    "print(lemmatized_text)\n",
    "print(stemmed_text)"
   ]
  },
  {
   "cell_type": "markdown",
   "metadata": {},
   "source": [
    "<h4>2. Написать функцию для токенизации всех символов из ASCII</h4>"
   ]
  },
  {
   "cell_type": "code",
   "execution_count": 66,
   "metadata": {},
   "outputs": [],
   "source": [
    "def tokenize(text: str) -> list[str]:\n",
    "    return [char for char in text if char != ' ']"
   ]
  },
  {
   "cell_type": "code",
   "execution_count": 67,
   "metadata": {},
   "outputs": [
    {
     "name": "stdout",
     "output_type": "stream",
     "text": [
      "['I', 'l', 'i', 'v', 'e', 'i', 'n', 'a', 'h', 'o', 'u', 's', 'e', 'n', 'e', 'a', 'r', 't', 'h', 'e', 'm', 'o', 'u', 'n', 't', 'a', 'i', 'n', 's', '.', 'I', 'h', 'a', 'v', 'e', 't', 'w', 'o', 'b', 'r', 'o', 't', 'h', 'e', 'r', 's', 'a', 'n', 'd', 'o', 'n', 'e', 's', 'i', 's', 't', 'e', 'r', ',', 'a', 'n', 'd', 'I', 'w', 'a', 's', 'b', 'o', 'r', 'n', 'l', 'a', 's', 't', '.', 'M', 'y', 'f', 'a', 't', 'h', 'e', 'r', 't', 'e', 'a', 'c', 'h', 'e', 's', 'm', 'a', 't', 'h', 'e', 'm', 'a', 't', 'i', 'c', 's', ',', 'a', 'n', 'd', 'm', 'y', 'm', 'o', 't', 'h', 'e', 'r', 'i', 's', 'a', 'n', 'u', 'r', 's', 'e', 'a', 't', 'a', 'b', 'i', 'g', 'h', 'o', 's', 'p', 'i', 't', 'a', 'l', '.', 'M', 'y', 'b', 'r', 'o', 't', 'h', 'e', 'r', 's', 'a', 'r', 'e', 'v', 'e', 'r', 'y', 's', 'm', 'a', 'r', 't', 'a', 'n', 'd', 'w', 'o', 'r', 'k', 'h', 'a', 'r', 'd', 'i', 'n', 's', 'c', 'h', 'o', 'o', 'l', '.', 'M', 'y', 's', 'i', 's', 't', 'e', 'r', 'i', 's', 'a', 'n', 'e', 'r', 'v', 'o', 'u', 's', 'g', 'i', 'r', 'l', ',', 'b', 'u', 't', 's', 'h', 'e', 'i', 's', 'v', 'e', 'r', 'y', 'k', 'i', 'n', 'd', '.', 'M', 'y', 'g', 'r', 'a', 'n', 'd', 'm', 'o', 't', 'h', 'e', 'r', 'a', 'l', 's', 'o', 'l', 'i', 'v', 'e', 's', 'w', 'i', 't', 'h', 'u', 's', '.', 'S', 'h', 'e', 'c', 'a', 'm', 'e', 'f', 'r', 'o', 'm', 'I', 't', 'a', 'l', 'y', 'w', 'h', 'e', 'n', 'I', 'w', 'a', 's', 't', 'w', 'o', 'y', 'e', 'a', 'r', 's', 'o', 'l', 'd', '.', 'S', 'h', 'e', 'h', 'a', 's', 'g', 'r', 'o', 'w', 'n', 'o', 'l', 'd', ',', 'b', 'u', 't', 's', 'h', 'e', 'i', 's', 's', 't', 'i', 'l', 'l', 'v', 'e', 'r', 'y', 's', 't', 'r', 'o', 'n', 'g', '.', 'S', 'h', 'e', 'c', 'o', 'o', 'k', 's', 't', 'h', 'e', 'b', 'e', 's', 't', 'f', 'o', 'o', 'd', '!']\n"
     ]
    }
   ],
   "source": [
    "tokenized_text = tokenize(text)\n",
    "print(tokenized_text)"
   ]
  },
  {
   "cell_type": "markdown",
   "metadata": {},
   "source": [
    "<h4>3. Написать функцию для векторизации всех символов из ASCII</h4>"
   ]
  },
  {
   "cell_type": "code",
   "execution_count": 69,
   "metadata": {},
   "outputs": [
    {
     "name": "stdout",
     "output_type": "stream",
     "text": [
      "[73, 108, 105, 118, 101, 105, 110, 97, 104, 111, 117, 115, 101, 110, 101, 97, 114, 116, 104, 101, 109, 111, 117, 110, 116, 97, 105, 110, 115, 46, 73, 104, 97, 118, 101, 116, 119, 111, 98, 114, 111, 116, 104, 101, 114, 115, 97, 110, 100, 111, 110, 101, 115, 105, 115, 116, 101, 114, 44, 97, 110, 100, 73, 119, 97, 115, 98, 111, 114, 110, 108, 97, 115, 116, 46, 77, 121, 102, 97, 116, 104, 101, 114, 116, 101, 97, 99, 104, 101, 115, 109, 97, 116, 104, 101, 109, 97, 116, 105, 99, 115, 44, 97, 110, 100, 109, 121, 109, 111, 116, 104, 101, 114, 105, 115, 97, 110, 117, 114, 115, 101, 97, 116, 97, 98, 105, 103, 104, 111, 115, 112, 105, 116, 97, 108, 46, 77, 121, 98, 114, 111, 116, 104, 101, 114, 115, 97, 114, 101, 118, 101, 114, 121, 115, 109, 97, 114, 116, 97, 110, 100, 119, 111, 114, 107, 104, 97, 114, 100, 105, 110, 115, 99, 104, 111, 111, 108, 46, 77, 121, 115, 105, 115, 116, 101, 114, 105, 115, 97, 110, 101, 114, 118, 111, 117, 115, 103, 105, 114, 108, 44, 98, 117, 116, 115, 104, 101, 105, 115, 118, 101, 114, 121, 107, 105, 110, 100, 46, 77, 121, 103, 114, 97, 110, 100, 109, 111, 116, 104, 101, 114, 97, 108, 115, 111, 108, 105, 118, 101, 115, 119, 105, 116, 104, 117, 115, 46, 83, 104, 101, 99, 97, 109, 101, 102, 114, 111, 109, 73, 116, 97, 108, 121, 119, 104, 101, 110, 73, 119, 97, 115, 116, 119, 111, 121, 101, 97, 114, 115, 111, 108, 100, 46, 83, 104, 101, 104, 97, 115, 103, 114, 111, 119, 110, 111, 108, 100, 44, 98, 117, 116, 115, 104, 101, 105, 115, 115, 116, 105, 108, 108, 118, 101, 114, 121, 115, 116, 114, 111, 110, 103, 46, 83, 104, 101, 99, 111, 111, 107, 115, 116, 104, 101, 98, 101, 115, 116, 102, 111, 111, 100, 33]\n"
     ]
    }
   ],
   "source": [
    "def vectorize(tokens: list[str]) -> list[int]:\n",
    "    return [ord(char) for char in tokens]\n",
    "\n",
    "vectorized_text = vectorize(tokenized_text)\n",
    "print(vectorized_text)"
   ]
  }
 ],
 "metadata": {
  "kernelspec": {
   "display_name": "Python 3",
   "language": "python",
   "name": "python3"
  },
  "language_info": {
   "codemirror_mode": {
    "name": "ipython",
    "version": 3
   },
   "file_extension": ".py",
   "mimetype": "text/x-python",
   "name": "python",
   "nbconvert_exporter": "python",
   "pygments_lexer": "ipython3",
   "version": "3.11.9"
  }
 },
 "nbformat": 4,
 "nbformat_minor": 2
}
